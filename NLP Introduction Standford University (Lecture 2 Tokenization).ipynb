{
 "cells": [
  {
   "cell_type": "markdown",
   "metadata": {},
   "source": [
    "#maximum matching word segmentation algorithm"
   ]
  },
  {
   "cell_type": "markdown",
   "metadata": {},
   "source": [
    "### Tokenization using Python Split"
   ]
  },
  {
   "cell_type": "code",
   "execution_count": 1,
   "metadata": {},
   "outputs": [
    {
     "name": "stdout",
     "output_type": "stream",
     "text": [
      "['This', 'is', 'a', 'tokenization', 'tutorial.', 'We', 'are', 'learning', 'different', 'tokenization', 'methods,', 'and', 'ways,', 'Tokenization', 'is', 'essential', 'in', 'NLP', 'tasks.']\n"
     ]
    }
   ],
   "source": [
    "# Tokenization using Python Split\n",
    "\n",
    "Mystr = '''This is a tokenization tutorial. We are learning different tokenization methods,\n",
    "and ways, Tokenization is essential in NLP tasks.'''\n",
    "\n",
    "Tokens = Mystr.split()\n",
    "print(Tokens)"
   ]
  },
  {
   "cell_type": "code",
   "execution_count": 2,
   "metadata": {},
   "outputs": [
    {
     "name": "stdout",
     "output_type": "stream",
     "text": [
      "['This is a tokenization tutorial', ' We are learning different tokenization methods,\\nand ways? Tokenization is essential in NLP tasks', '']\n"
     ]
    }
   ],
   "source": [
    "# Sentence Tokenization using python split\n",
    "\n",
    "Mystr = '''This is a tokenization tutorial. We are learning different tokenization methods,\n",
    "and ways? Tokenization is essential in NLP tasks.'''\n",
    "\n",
    "Tokens = Mystr.split('.')\n",
    "print(Tokens)"
   ]
  },
  {
   "cell_type": "markdown",
   "metadata": {},
   "source": [
    "<strong>Problem:</strong> \n",
    "it splits after the last “.” as well. And it doesn’t consider the “?” as an indicator of next sentence because it only takes one character, which is “.”."
   ]
  },
  {
   "cell_type": "markdown",
   "metadata": {},
   "source": [
    "### Tokenization using Regex (Regular Expression)"
   ]
  },
  {
   "cell_type": "code",
   "execution_count": 3,
   "metadata": {},
   "outputs": [
    {
     "name": "stdout",
     "output_type": "stream",
     "text": [
      "['This', 'is', 'a', 'tokenization', 'tutorial', 'We', 'are', 'learning', 'different', 'tokenization', 'methods', 'and', 'ways', 'Tokenization', 'is', 'essential', 'in', 'NLP', 'tasks']\n"
     ]
    }
   ],
   "source": [
    "import re\n",
    "\n",
    "Mystr = '''This is a tokenization tutorial. We are learning different tokenization methods,\n",
    "and ways? Tokenization is essential in NLP tasks.'''\n",
    "\n",
    "Tokens = re.findall(\"\\w+\", Mystr) #finds all the words in a sentence by removing any special characters\n",
    "print(Tokens) "
   ]
  },
  {
   "cell_type": "code",
   "execution_count": 4,
   "metadata": {},
   "outputs": [
    {
     "name": "stdout",
     "output_type": "stream",
     "text": [
      "['This is a tokenization tutorial', ' We are learning different tokenization methods,', 'and ways', ' Tokenization is essential in NLP tasks', '']\n"
     ]
    }
   ],
   "source": [
    "# Sentence Tokenization\n",
    "\n",
    "Mystr = '''This is a tokenization tutorial. We are learning different tokenization methods,\n",
    "and ways? Tokenization is essential in NLP tasks.'''\n",
    "\n",
    "Tokens = re.compile('[.!?\\n]' ).split(Mystr) #compile and split sentence \n",
    "print(Tokens)"
   ]
  },
  {
   "cell_type": "markdown",
   "metadata": {},
   "source": [
    "### NLTK Tokenization"
   ]
  },
  {
   "cell_type": "code",
   "execution_count": 5,
   "metadata": {},
   "outputs": [
    {
     "name": "stdout",
     "output_type": "stream",
     "text": [
      "['This', 'is', 'a', 'tokenization', 'tutorial', '.', 'We', 'are', 'learning', 'different', 'tokenization', 'methods', ',', 'and', 'ways', '?', 'Tokenization', 'is', 'essential', 'in', 'NLP', 'tasks', '.']\n"
     ]
    }
   ],
   "source": [
    "from nltk.tokenize import word_tokenize\n",
    "\n",
    "Mystr = '''This is a tokenization tutorial. We are learning different tokenization methods,\n",
    "and ways? Tokenization is essential in NLP tasks.'''\n",
    "\n",
    "print(word_tokenize(Mystr))"
   ]
  },
  {
   "cell_type": "code",
   "execution_count": 6,
   "metadata": {},
   "outputs": [
    {
     "name": "stdout",
     "output_type": "stream",
     "text": [
      "['This is a tokenization tutorial.', 'We are learning different tokenization methods,\\nand ways?', 'Tokenization is essential in NLP tasks.']\n"
     ]
    }
   ],
   "source": [
    "from nltk.tokenize import sent_tokenize\n",
    "\n",
    "Mystr = '''This is a tokenization tutorial. We are learning different tokenization methods,\n",
    "and ways? Tokenization is essential in NLP tasks.'''\n",
    "\n",
    "print(sent_tokenize(Mystr))"
   ]
  },
  {
   "cell_type": "markdown",
   "metadata": {},
   "source": [
    "### Spacy Tokenization"
   ]
  },
  {
   "cell_type": "code",
   "execution_count": 7,
   "metadata": {},
   "outputs": [
    {
     "name": "stdout",
     "output_type": "stream",
     "text": [
      "['This', 'is', 'a', 'tokenization', 'tutorial', '.', 'We', 'are', 'learning', 'different', 'tokenization', 'methods', ',', '\\n', 'and', 'ways', '?', 'Tokenization', 'is', 'essential', 'in', 'NLP', 'tasks', '.']\n"
     ]
    }
   ],
   "source": [
    "from spacy.lang.en import English\n",
    "\n",
    "nlp = English()\n",
    "Mystr = '''This is a tokenization tutorial. We are learning different tokenization methods,\n",
    "and ways? Tokenization is essential in NLP tasks.'''\n",
    "my_doc = nlp(Mystr)\n",
    "Tokens = []\n",
    "for token in my_doc:\n",
    "    Tokens.append(token.text)\n",
    "    \n",
    "print(Tokens)"
   ]
  },
  {
   "cell_type": "code",
   "execution_count": 8,
   "metadata": {
    "scrolled": true
   },
   "outputs": [
    {
     "name": "stdout",
     "output_type": "stream",
     "text": [
      "This is a tokenization tutorial.\n",
      "We are learning different tokenization methods,\n",
      "and ways?\n",
      "Tokenization is essential in NLP tasks.\n"
     ]
    }
   ],
   "source": [
    "import spacy \n",
    "  \n",
    "#load core english library \n",
    "nlp = spacy.load(\"en_core_web_sm\") \n",
    "\n",
    "Mystr = '''This is a tokenization tutorial. We are learning different tokenization methods,\n",
    "and ways? Tokenization is essential in NLP tasks.'''\n",
    "\n",
    "#take unicode string   \n",
    "#here u stands for unicode \n",
    "doc = nlp(Mystr) \n",
    "#to print sentences \n",
    "for sent in doc.sents: \n",
    "    print(sent)"
   ]
  },
  {
   "cell_type": "markdown",
   "metadata": {},
   "source": [
    "### Keras Tokenization"
   ]
  },
  {
   "cell_type": "code",
   "execution_count": 9,
   "metadata": {},
   "outputs": [
    {
     "name": "stdout",
     "output_type": "stream",
     "text": [
      "['this', 'is', 'a', 'tokenization', 'tutorial', 'we', 'are', 'learning', 'different', 'tokenization', 'methods', 'and', 'ways', 'tokenization', 'is', 'essential', 'in', 'nlp', 'tasks']\n"
     ]
    }
   ],
   "source": [
    "from keras.preprocessing.text import text_to_word_sequence\n",
    "\n",
    "Mystr = '''This is a tokenization tutorial. We are learning different tokenization methods,\n",
    "and ways? Tokenization is essential in NLP tasks.'''\n",
    "Tokens = text_to_word_sequence(Mystr)\n",
    "print(Tokens)"
   ]
  },
  {
   "cell_type": "markdown",
   "metadata": {},
   "source": [
    "### Gensim Tokenizer"
   ]
  },
  {
   "cell_type": "code",
   "execution_count": 10,
   "metadata": {},
   "outputs": [
    {
     "name": "stdout",
     "output_type": "stream",
     "text": [
      "['This', 'is', 'a', 'tokenization', 'tutorial', 'We', 'are', 'learning', 'different', 'tokenization', 'methods', 'and', 'ways', 'Tokenization', 'is', 'essential', 'in', 'NLP', 'tasks']\n"
     ]
    }
   ],
   "source": [
    "from gensim.utils import tokenize\n",
    "\n",
    "Mystr = '''This is a tokenization tutorial. We are learning different tokenization methods,\n",
    "and ways? Tokenization is essential in NLP tasks.'''\n",
    "\n",
    "print(list(tokenize(Mystr)))"
   ]
  },
  {
   "cell_type": "code",
   "execution_count": 11,
   "metadata": {},
   "outputs": [
    {
     "name": "stdout",
     "output_type": "stream",
     "text": [
      "['This is a tokenization tutorial.', 'We are learning different tokenization methods,', 'and ways?', 'Tokenization is essential in NLP tasks.']\n"
     ]
    }
   ],
   "source": [
    "from gensim.summarization.textcleaner import split_sentences\n",
    "\n",
    "Mystr = '''This is a tokenization tutorial. We are learning different tokenization methods,\n",
    "and ways? Tokenization is essential in NLP tasks.'''\n",
    "\n",
    "Tokens = split_sentences(Mystr)\n",
    "print(Tokens)"
   ]
  },
  {
   "cell_type": "code",
   "execution_count": null,
   "metadata": {},
   "outputs": [],
   "source": []
  }
 ],
 "metadata": {
  "kernelspec": {
   "display_name": "Python 3",
   "language": "python",
   "name": "python3"
  },
  "language_info": {
   "codemirror_mode": {
    "name": "ipython",
    "version": 3
   },
   "file_extension": ".py",
   "mimetype": "text/x-python",
   "name": "python",
   "nbconvert_exporter": "python",
   "pygments_lexer": "ipython3",
   "version": "3.8.5"
  }
 },
 "nbformat": 4,
 "nbformat_minor": 4
}
