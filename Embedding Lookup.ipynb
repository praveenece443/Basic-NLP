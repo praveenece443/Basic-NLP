{
 "cells": [
  {
   "cell_type": "code",
   "execution_count": 1,
   "metadata": {},
   "outputs": [],
   "source": [
    "import numpy as np\n",
    "from tensorflow.keras.layers import Input, Embedding\n",
    "from tensorflow.keras.models import Model\n",
    "from tensorflow.keras.preprocessing.text import one_hot\n",
    "from tensorflow.keras.preprocessing.sequence import pad_sequences"
   ]
  },
  {
   "cell_type": "code",
   "execution_count": 2,
   "metadata": {},
   "outputs": [],
   "source": [
    "# Generate some random weights\n",
    "embedding_weights = np.random.rand(10000, 106)\n",
    "vocabulary_size = 10000"
   ]
  },
  {
   "cell_type": "code",
   "execution_count": 3,
   "metadata": {},
   "outputs": [],
   "source": [
    "input_layer = Input(shape=(200,), name='text_input')\n",
    "embedding = Embedding(input_length=200, input_dim=vocabulary_size, output_dim=106, \n",
    "                       name='embedding_layer', trainable=False, weights=[embedding_weights])\n",
    "embedded_text = embedding(input_layer)\n",
    "embedding_model = Model(inputs=input_layer, outputs=embedded_text)"
   ]
  },
  {
   "cell_type": "code",
   "execution_count": 4,
   "metadata": {},
   "outputs": [],
   "source": [
    "# Random input sequence of length 200\n",
    "input_sequence = np.random.randint(0,10000,size=(1,200))\n",
    "# Extract the embeddings by calling the .predict() method\n",
    "sequence_embeddings = embedding_model.predict(input_sequence)"
   ]
  },
  {
   "cell_type": "code",
   "execution_count": 5,
   "metadata": {},
   "outputs": [],
   "source": [
    "from nltk.tokenize import word_tokenize\n",
    "\n",
    "text = \"I had a house and car of my own\"\n",
    "tkns = word_tokenize(text)\n",
    "tkn_ids = [one_hot(tkn, 200) for tkn in tkns]\n",
    "input_sequence = pad_sequences([tkn_id for tkn_id in tkn_ids], maxlen=200, dtype=\"int32\", padding=\"pre\", \n",
    "                                                               truncating=\"pre\", value=0.0)\n",
    "\n",
    "# Extract the embeddings by calling the .predict() method\n",
    "sequence_embeddings = embedding_model.predict(input_sequence)"
   ]
  },
  {
   "cell_type": "code",
   "execution_count": 6,
   "metadata": {},
   "outputs": [
    {
     "name": "stdout",
     "output_type": "stream",
     "text": [
      "[[[0.1039932  0.9681861  0.25049317 ... 0.43206945 0.7814346  0.00642428]\n",
      "  [0.1039932  0.9681861  0.25049317 ... 0.43206945 0.7814346  0.00642428]\n",
      "  [0.1039932  0.9681861  0.25049317 ... 0.43206945 0.7814346  0.00642428]\n",
      "  ...\n",
      "  [0.1039932  0.9681861  0.25049317 ... 0.43206945 0.7814346  0.00642428]\n",
      "  [0.1039932  0.9681861  0.25049317 ... 0.43206945 0.7814346  0.00642428]\n",
      "  [0.2899627  0.6314077  0.31996    ... 0.8439443  0.9913898  0.76255906]]\n",
      "\n",
      " [[0.1039932  0.9681861  0.25049317 ... 0.43206945 0.7814346  0.00642428]\n",
      "  [0.1039932  0.9681861  0.25049317 ... 0.43206945 0.7814346  0.00642428]\n",
      "  [0.1039932  0.9681861  0.25049317 ... 0.43206945 0.7814346  0.00642428]\n",
      "  ...\n",
      "  [0.1039932  0.9681861  0.25049317 ... 0.43206945 0.7814346  0.00642428]\n",
      "  [0.1039932  0.9681861  0.25049317 ... 0.43206945 0.7814346  0.00642428]\n",
      "  [0.9925927  0.1990142  0.19136871 ... 0.29245594 0.68264467 0.502004  ]]\n",
      "\n",
      " [[0.1039932  0.9681861  0.25049317 ... 0.43206945 0.7814346  0.00642428]\n",
      "  [0.1039932  0.9681861  0.25049317 ... 0.43206945 0.7814346  0.00642428]\n",
      "  [0.1039932  0.9681861  0.25049317 ... 0.43206945 0.7814346  0.00642428]\n",
      "  ...\n",
      "  [0.1039932  0.9681861  0.25049317 ... 0.43206945 0.7814346  0.00642428]\n",
      "  [0.1039932  0.9681861  0.25049317 ... 0.43206945 0.7814346  0.00642428]\n",
      "  [0.08914489 0.569807   0.7223557  ... 0.7165058  0.09408224 0.9632538 ]]\n",
      "\n",
      " ...\n",
      "\n",
      " [[0.1039932  0.9681861  0.25049317 ... 0.43206945 0.7814346  0.00642428]\n",
      "  [0.1039932  0.9681861  0.25049317 ... 0.43206945 0.7814346  0.00642428]\n",
      "  [0.1039932  0.9681861  0.25049317 ... 0.43206945 0.7814346  0.00642428]\n",
      "  ...\n",
      "  [0.1039932  0.9681861  0.25049317 ... 0.43206945 0.7814346  0.00642428]\n",
      "  [0.1039932  0.9681861  0.25049317 ... 0.43206945 0.7814346  0.00642428]\n",
      "  [0.5819305  0.11517038 0.65658826 ... 0.39056328 0.06325866 0.67273116]]\n",
      "\n",
      " [[0.1039932  0.9681861  0.25049317 ... 0.43206945 0.7814346  0.00642428]\n",
      "  [0.1039932  0.9681861  0.25049317 ... 0.43206945 0.7814346  0.00642428]\n",
      "  [0.1039932  0.9681861  0.25049317 ... 0.43206945 0.7814346  0.00642428]\n",
      "  ...\n",
      "  [0.1039932  0.9681861  0.25049317 ... 0.43206945 0.7814346  0.00642428]\n",
      "  [0.1039932  0.9681861  0.25049317 ... 0.43206945 0.7814346  0.00642428]\n",
      "  [0.57243866 0.9173247  0.42980325 ... 0.11983425 0.82390195 0.7618994 ]]\n",
      "\n",
      " [[0.1039932  0.9681861  0.25049317 ... 0.43206945 0.7814346  0.00642428]\n",
      "  [0.1039932  0.9681861  0.25049317 ... 0.43206945 0.7814346  0.00642428]\n",
      "  [0.1039932  0.9681861  0.25049317 ... 0.43206945 0.7814346  0.00642428]\n",
      "  ...\n",
      "  [0.1039932  0.9681861  0.25049317 ... 0.43206945 0.7814346  0.00642428]\n",
      "  [0.1039932  0.9681861  0.25049317 ... 0.43206945 0.7814346  0.00642428]\n",
      "  [0.45676923 0.96658605 0.0673046  ... 0.9915463  0.30301318 0.5479747 ]]]\n"
     ]
    }
   ],
   "source": [
    "print(sequence_embeddings)"
   ]
  },
  {
   "cell_type": "code",
   "execution_count": null,
   "metadata": {},
   "outputs": [],
   "source": []
  }
 ],
 "metadata": {
  "kernelspec": {
   "display_name": "Python 3",
   "language": "python",
   "name": "python3"
  },
  "language_info": {
   "codemirror_mode": {
    "name": "ipython",
    "version": 3
   },
   "file_extension": ".py",
   "mimetype": "text/x-python",
   "name": "python",
   "nbconvert_exporter": "python",
   "pygments_lexer": "ipython3",
   "version": "3.8.5"
  }
 },
 "nbformat": 4,
 "nbformat_minor": 4
}
