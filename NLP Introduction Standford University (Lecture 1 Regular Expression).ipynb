{
 "cells": [
  {
   "cell_type": "markdown",
   "metadata": {},
   "source": [
    "# Regular Expressions"
   ]
  },
  {
   "cell_type": "code",
   "execution_count": 1,
   "metadata": {},
   "outputs": [
    {
     "data": {
      "text/plain": [
       "re.Match"
      ]
     },
     "execution_count": 1,
     "metadata": {},
     "output_type": "execute_result"
    }
   ],
   "source": [
    "import re\n",
    "\n",
    "text = \"The film Titanic was released in 1998\"\n",
    "# The above regex expression will match the text string, \n",
    "#since we are trying to match a string of any length and any character, it gives the complete sentence. \n",
    "result = re.match(r\".*\", text)\n",
    "type(result) #shows \"re.match\" if matched else gives NoneType"
   ]
  },
  {
   "cell_type": "code",
   "execution_count": 2,
   "metadata": {},
   "outputs": [
    {
     "data": {
      "text/plain": [
       "'The film Titanic was released in 1998'"
      ]
     },
     "execution_count": 2,
     "metadata": {},
     "output_type": "execute_result"
    }
   ],
   "source": [
    "result.group(0)"
   ]
  },
  {
   "cell_type": "code",
   "execution_count": 3,
   "metadata": {},
   "outputs": [
    {
     "data": {
      "text/plain": [
       "NoneType"
      ]
     },
     "execution_count": 3,
     "metadata": {},
     "output_type": "execute_result"
    }
   ],
   "source": [
    "# o match a string with a length of at least 1, the following regex expression is used:\n",
    "text = \"\"\n",
    "result = re.match(r\".+\", text)\n",
    "type(result)"
   ]
  },
  {
   "cell_type": "code",
   "execution_count": 4,
   "metadata": {},
   "outputs": [
    {
     "data": {
      "text/plain": [
       "'The'"
      ]
     },
     "execution_count": 4,
     "metadata": {},
     "output_type": "execute_result"
    }
   ],
   "source": [
    "# The match function can be used to find any alphabet letters within a string.\n",
    "text = \"The film Titanic was released in 1998\"\n",
    "result = re.match(r\"[a-zA-z]+\", text)\n",
    "result.group(0) # After the word The there is a space, which is not treated as an alphabet letter, \n",
    "#therefore the matching stopped and the expression returned just \"The\", which is the first match."
   ]
  },
  {
   "cell_type": "code",
   "execution_count": 5,
   "metadata": {},
   "outputs": [
    {
     "data": {
      "text/plain": [
       "NoneType"
      ]
     },
     "execution_count": 5,
     "metadata": {},
     "output_type": "execute_result"
    }
   ],
   "source": [
    "text = \"1998 was the year when the film titanic was released\"\n",
    "result = re.match(r\"[a-zA-z]+\", text)\n",
    "type(result)"
   ]
  },
  {
   "cell_type": "markdown",
   "metadata": {},
   "source": [
    "##### search Function"
   ]
  },
  {
   "cell_type": "code",
   "execution_count": 6,
   "metadata": {},
   "outputs": [
    {
     "name": "stdout",
     "output_type": "stream",
     "text": [
      "was\n"
     ]
    }
   ],
   "source": [
    "'''The search function is similar to the match function i.e. it tries to match the specified pattern. However, \n",
    "unlike the match function, it matches the pattern globally instead of matching only the first element. Therefore, \n",
    "the search function will return a match even if the string doesn't contain an alphabet at thestart of the string \n",
    "but contains an alphabet elsewhere in the string, as shown below:'''\n",
    "\n",
    "text = \"1998 was the year when the film titanic was released\"\n",
    "result = re.search(r\"[a-zA-z]+\", text)\n",
    "print(result.group(0))"
   ]
  },
  {
   "cell_type": "code",
   "execution_count": 7,
   "metadata": {},
   "outputs": [
    {
     "name": "stdout",
     "output_type": "stream",
     "text": [
      "Match found\n"
     ]
    }
   ],
   "source": [
    "'''To check if a string starts with a specific word, you can use the carrot key i.e. ^ followed by the word \n",
    "to match with the search function as shown below. Suppose we have the following string:'''\n",
    "\n",
    "text = \"1998 was the year when the film titanic was released\"\n",
    "if re.search(r\"^1998\", text):\n",
    "    print(\"Match found\")\n",
    "else:\n",
    "    print(\"Match not found\")"
   ]
  },
  {
   "cell_type": "code",
   "execution_count": 8,
   "metadata": {},
   "outputs": [
    {
     "name": "stdout",
     "output_type": "stream",
     "text": [
      "Match not found\n"
     ]
    }
   ],
   "source": [
    "'''To check whether a string ends with a specific word or not, we can use the word in the regular expression, \n",
    "followed by the dollar sign. The dollar sign marks the end of the statement.'''\n",
    "\n",
    "text = \"1998 was the year when the film titanic was released\"\n",
    "if re.search(r\"1998$\", text):\n",
    "    print(\"Match found\")\n",
    "else:\n",
    "    print(\"Match not found\")"
   ]
  },
  {
   "cell_type": "markdown",
   "metadata": {},
   "source": [
    "##### Substitute Function"
   ]
  },
  {
   "cell_type": "code",
   "execution_count": 9,
   "metadata": {},
   "outputs": [],
   "source": [
    "'''Till now we have been using regex to find if a pattern exists in a string. Let's move forward with another \n",
    "advanced regex function i.e. substituting text in a string. The sub function is used for this purpose.'''\n",
    "\n",
    "text = \"The film Pulp Fiction was released in year 1994\"\n",
    "result = re.sub(r\"Pulp Fiction\", \"Forrest Gump\", text)"
   ]
  },
  {
   "cell_type": "code",
   "execution_count": 10,
   "metadata": {},
   "outputs": [
    {
     "name": "stdout",
     "output_type": "stream",
     "text": [
      "The film Forrest Gump was released in year 1994\n"
     ]
    }
   ],
   "source": [
    "print(result)"
   ]
  },
  {
   "cell_type": "code",
   "execution_count": 11,
   "metadata": {},
   "outputs": [
    {
     "name": "stdout",
     "output_type": "stream",
     "text": [
      "TXX XXXX PXXX FXXXXXX XXX XXXXXXXX XX XXXX 1994\n"
     ]
    }
   ],
   "source": [
    "text = \"The film Pulp Fiction was released in year 1994\"\n",
    "result = re.sub(r\"[a-z]\", \"X\", text) #substitutes with a new string for all small characters\n",
    "print(result)"
   ]
  },
  {
   "cell_type": "code",
   "execution_count": 12,
   "metadata": {},
   "outputs": [
    {
     "name": "stdout",
     "output_type": "stream",
     "text": [
      "XXX XXXX XXXX XXXXXXX XXX XXXXXXXX XX XXXX 1994   XXX XXXX XXXX XXXXXXX XXX XXXXXXXX XX XXXX 1994\n"
     ]
    }
   ],
   "source": [
    "'''result = re.sub(r\"[a-zA-Z]\", \"X\", text) or you can pass the additional parameter flags to the sub function and \n",
    "set its value to re.I which refers to case insensitive, as follows:'''\n",
    "text = \"The film Pulp Fiction was released in year 1994\"\n",
    "result1 = re.sub(r\"[a-zA-Z]\", \"X\", text)\n",
    "result2 = re.sub(r\"[a-z]\", \"X\", text, flags=re.I)\n",
    "print(result1, \" \", result2)"
   ]
  },
  {
   "cell_type": "code",
   "execution_count": 13,
   "metadata": {},
   "outputs": [
    {
     "name": "stdout",
     "output_type": "stream",
     "text": [
      "The film Pulp Fiction was released in year \n"
     ]
    }
   ],
   "source": [
    "'''The regex expression to find digits in a string is \\d. This pattern can be used to remove digits from a string \n",
    "by replacing them with an empty string of length zero as shown below:'''\n",
    "\n",
    "text = \"The film Pulp Fiction was released in year 1994\"\n",
    "result = re.sub(r\"\\d\", \"\", text)\n",
    "print(result)"
   ]
  },
  {
   "cell_type": "code",
   "execution_count": 14,
   "metadata": {},
   "outputs": [
    {
     "name": "stdout",
     "output_type": "stream",
     "text": [
      "        1994\n"
     ]
    }
   ],
   "source": [
    "text = \"The film Pulp Fiction was released in year 1994\"\n",
    "result = re.sub(r\"[a-z]\", \"\", text, flags=re.I) # Removing Alphabets\n",
    "print(result)"
   ]
  },
  {
   "cell_type": "code",
   "execution_count": 15,
   "metadata": {},
   "outputs": [
    {
     "name": "stdout",
     "output_type": "stream",
     "text": [
      " , '@ '  ?   % $  .\n"
     ]
    }
   ],
   "source": [
    "'''If you want to remove all the word characters (letters and numbers) from a string and keep the remaining \n",
    "characters, you can use the \\w pattern in your regex and replace it with an empty string of length zero, as \n",
    "shown below:'''\n",
    "\n",
    "text = \"The film, '@Pulp Fiction' was ? released in % $ year 1994.\"\n",
    "result = re.sub(r\"\\w\",\"\", text, flags = re.I)\n",
    "print(result)"
   ]
  },
  {
   "cell_type": "code",
   "execution_count": 16,
   "metadata": {},
   "outputs": [
    {
     "name": "stdout",
     "output_type": "stream",
     "text": [
      "['The', 'film', 'Pulp', 'Fiction', 'was', 'released', 'in', 'year', '1994']\n"
     ]
    }
   ],
   "source": [
    "text = \"The film, '@Pulp Fiction' was ? released in % $ year 1994.\"\n",
    "result = re.findall(r\"[\\w]+\", text)\n",
    "print(result)"
   ]
  },
  {
   "cell_type": "code",
   "execution_count": 17,
   "metadata": {},
   "outputs": [
    {
     "name": "stdout",
     "output_type": "stream",
     "text": [
      "The film    Pulp Fiction  was   released in     year 1994 \n"
     ]
    }
   ],
   "source": [
    "# To remove all the non-word characters, the \\W pattern can be used as follows:\n",
    "\n",
    "text = \"The film, '@Pulp Fiction' was ? released in % $ year 1994.\"\n",
    "result = re.sub(r\"\\W\", \" \", text, flags=re.I)\n",
    "print(result)"
   ]
  },
  {
   "cell_type": "code",
   "execution_count": 18,
   "metadata": {},
   "outputs": [
    {
     "name": "stdout",
     "output_type": "stream",
     "text": [
      "The film Pulp Fiction was  released  in   year 1994\n"
     ]
    }
   ],
   "source": [
    "# Grouping Multiple Patterns\n",
    "text = \"The film, '@Pulp Fiction' was ? released _ in % $ year 1994.\"\n",
    "result = re.sub(r\"[,@\\'?\\.$%_]\", \"\", text, flags=re.I)\n",
    "print(result)"
   ]
  },
  {
   "cell_type": "markdown",
   "metadata": {},
   "source": [
    "## Removing Multiple Spaces\n",
    "\n",
    "Sometimes, multiple spaces appear between words as a result of removing words or punctuation. For instance, in the output of the last example, there are multiple spaces between in and year. These spaces can be removed using the \\s pattern, which refers to a single space."
   ]
  },
  {
   "cell_type": "code",
   "execution_count": 19,
   "metadata": {},
   "outputs": [
    {
     "name": "stdout",
     "output_type": "stream",
     "text": [
      "The film Pulp Fiction was released in year 1994\n"
     ]
    }
   ],
   "source": [
    "text = \"The film Pulp Fiction was  released  in   year 1994\"\n",
    "result = re.sub(r\"\\s+\",\" \", text, flags = re.I)\n",
    "print(result)"
   ]
  },
  {
   "cell_type": "code",
   "execution_count": 20,
   "metadata": {},
   "outputs": [
    {
     "name": "stdout",
     "output_type": "stream",
     "text": [
      "The film Pulp Fiction was released in year 1994\n"
     ]
    }
   ],
   "source": [
    "text = \"         The film Pulp Fiction was released in year 1994\"\n",
    "result = re.sub(r\"^\\s+\", \"\", text) # ^ is used to remove Spaces at the begining of the sentence\n",
    "print(result)"
   ]
  },
  {
   "cell_type": "code",
   "execution_count": 21,
   "metadata": {},
   "outputs": [
    {
     "name": "stdout",
     "output_type": "stream",
     "text": [
      "The film Pulp Fiction was released in year 1994\n"
     ]
    }
   ],
   "source": [
    "text = \"The film Pulp Fiction was released in year 1994      \"\n",
    "result = re.sub(r\"\\s+$\", \"\", text) # $ is used to remove Spaces at the end of the sentence\n",
    "print(result)"
   ]
  },
  {
   "cell_type": "code",
   "execution_count": 22,
   "metadata": {},
   "outputs": [
    {
     "name": "stdout",
     "output_type": "stream",
     "text": [
      "The film Pulp Fiction was released in year 1994\n"
     ]
    }
   ],
   "source": [
    "text = \"The film Pulp Fiction     s was b released in year 1994\"\n",
    "result = re.sub(r\"\\s+[a-zA-Z]\\s+\", \" \", text) # Removing a Single Character\n",
    "print(result)"
   ]
  },
  {
   "cell_type": "markdown",
   "metadata": {},
   "source": [
    "#### Split Function"
   ]
  },
  {
   "cell_type": "code",
   "execution_count": 23,
   "metadata": {},
   "outputs": [
    {
     "name": "stdout",
     "output_type": "stream",
     "text": [
      "['The', 'film', 'Pulp', 'Fiction', 'was', 'released', 'in', 'year', '1994', '']\n"
     ]
    }
   ],
   "source": [
    "text = \"The film      Pulp   Fiction was released in year 1994      \"\n",
    "result = re.split(r\"\\s+\", text) # Splitting a String with respect to space\n",
    "print(result)"
   ]
  },
  {
   "cell_type": "code",
   "execution_count": 24,
   "metadata": {},
   "outputs": [
    {
     "name": "stdout",
     "output_type": "stream",
     "text": [
      "['The film', ' Pulp Fiction', ' was released in year 1994']\n"
     ]
    }
   ],
   "source": [
    "text = \"The film, Pulp Fiction, was released in year 1994\"\n",
    "result = re.split(r\"\\,\", text) # split with respect to ','\n",
    "print(result)"
   ]
  },
  {
   "cell_type": "code",
   "execution_count": 25,
   "metadata": {},
   "outputs": [
    {
     "name": "stdout",
     "output_type": "stream",
     "text": [
      "['200', '400']\n"
     ]
    }
   ],
   "source": [
    "# the findall function returns a list that contains all the matched utterances as shown below:\n",
    "\n",
    "text = \"I want to buy a mobile between 200 and 400 euros\"\n",
    "result = re.findall(r\"\\d+\", text)\n",
    "print(result)"
   ]
  },
  {
   "cell_type": "code",
   "execution_count": null,
   "metadata": {},
   "outputs": [],
   "source": []
  }
 ],
 "metadata": {
  "kernelspec": {
   "display_name": "Python 3",
   "language": "python",
   "name": "python3"
  },
  "language_info": {
   "codemirror_mode": {
    "name": "ipython",
    "version": 3
   },
   "file_extension": ".py",
   "mimetype": "text/x-python",
   "name": "python",
   "nbconvert_exporter": "python",
   "pygments_lexer": "ipython3",
   "version": "3.8.5"
  }
 },
 "nbformat": 4,
 "nbformat_minor": 4
}
