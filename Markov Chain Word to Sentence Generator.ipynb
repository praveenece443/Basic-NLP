{
 "cells": [
  {
   "cell_type": "markdown",
   "metadata": {},
   "source": [
    "## Text1"
   ]
  },
  {
   "cell_type": "code",
   "execution_count": 1,
   "metadata": {},
   "outputs": [],
   "source": [
    "import numpy as np\n",
    "import random\n",
    "import re\n",
    "from collections import defaultdict"
   ]
  },
  {
   "cell_type": "code",
   "execution_count": 2,
   "metadata": {},
   "outputs": [],
   "source": [
    "path = 'dataset/test1.txt'\n",
    "with open(path, encoding='utf8') as f:\n",
    "    text = f.read()"
   ]
  },
  {
   "cell_type": "code",
   "execution_count": 3,
   "metadata": {},
   "outputs": [
    {
     "name": "stdout",
     "output_type": "stream",
     "text": [
      "['The', 'winner', 'of', 'this', 'auction', 'will', 'receive', 'two', 'PAIKKA', 'Human', 'Visibility', 'Raincoat', 'Camo', 'XS', 'The', 'PAIKKA', 'Human', 'Visibility', 'Raincoat', 'is', 'made', 'with', 'a', 'smart', 'reflective', 'surface', 'that', 'ensures', 'you', 'll', 'stay', 'safe', 'on', 'nighttime', 'walks', 'The', 'seams', 'are', 'all', 'taped', 'to', 'make', 'this', 'jacket', '100', 'waterproof', 'With', 'adjustable', 'sleeves', 'and', 'hood', 'this', 'raincoat', 'makes', 'sure', 'you', 'll', 'be', 'safe', 'and', 'comfortable', 'in', 'all', 'conditions', 'There', 'are', 'too', 'many', 'poor', 'quality', 'dog', 'products', 'in', 'the', 'world', 'We', 'are', 'here', 'to', 'make', 'a', 'change', 'We', 'understand', 'the', 'common', 'pain', 'points', 'of', 'dogs', 'and', 'their', 'owners', 'We', 'create', 'uncompromised', 'human', 'grade', 'solutions', 'to', 'make', 'every', 'moment', 'better', 'You', 'will', 'find', 'our', 'answer', 'revealed', 'in', 'every', 'PAIKKA', 'product', 'FREE', 'Shipping', 'on', 'all', 'items']\n"
     ]
    }
   ],
   "source": [
    "tokenized_text = [word for word in re.split('\\W+', text) if word != '']\n",
    "print(tokenized_text)"
   ]
  },
  {
   "cell_type": "code",
   "execution_count": 4,
   "metadata": {},
   "outputs": [],
   "source": [
    "markov_graph = defaultdict(lambda: defaultdict(int))"
   ]
  },
  {
   "cell_type": "code",
   "execution_count": 5,
   "metadata": {},
   "outputs": [],
   "source": [
    "last_word = tokenized_text[0].lower()\n",
    "for word in tokenized_text[1:]:\n",
    "    word = word.lower()\n",
    "    markov_graph[last_word][word] += 1\n",
    "    last_word = word"
   ]
  },
  {
   "cell_type": "code",
   "execution_count": 6,
   "metadata": {},
   "outputs": [
    {
     "name": "stdout",
     "output_type": "stream",
     "text": [
      "winner of\n",
      "product free\n"
     ]
    }
   ],
   "source": [
    "limit = 3\n",
    "for first_word in ('Human', 'winner', 'product'):\n",
    "    next_words = list(markov_graph[first_word].keys())[:limit]\n",
    "    for next_word in next_words:\n",
    "            print(first_word, next_word)"
   ]
  },
  {
   "cell_type": "code",
   "execution_count": null,
   "metadata": {},
   "outputs": [],
   "source": []
  }
 ],
 "metadata": {
  "kernelspec": {
   "display_name": "Python 3",
   "language": "python",
   "name": "python3"
  },
  "language_info": {
   "codemirror_mode": {
    "name": "ipython",
    "version": 3
   },
   "file_extension": ".py",
   "mimetype": "text/x-python",
   "name": "python",
   "nbconvert_exporter": "python",
   "pygments_lexer": "ipython3",
   "version": "3.8.5"
  }
 },
 "nbformat": 4,
 "nbformat_minor": 4
}
