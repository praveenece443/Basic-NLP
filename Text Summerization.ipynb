{
 "cells": [
  {
   "cell_type": "code",
   "execution_count": 9,
   "metadata": {},
   "outputs": [],
   "source": [
    "import nltk\n",
    "from nltk.corpus import stopwords\n",
    "from nltk.cluster.util import cosine_distance\n",
    "import numpy as np\n",
    "import networkx as nx"
   ]
  },
  {
   "cell_type": "code",
   "execution_count": 2,
   "metadata": {},
   "outputs": [],
   "source": [
    "def read_article(file_name):\n",
    "    file = open(file_name, \"r\")\n",
    "    filedata = file.readlines()\n",
    "    article = filedata[0].split(\". \")\n",
    "    sentences = []\n",
    "\n",
    "    for sentence in article:\n",
    "        #print(sentence)\n",
    "        sentences.append(sentence.replace(\"[^a-zA-Z]\", \" \").split(\" \"))\n",
    "    sentences.pop() \n",
    "    \n",
    "    return sentences"
   ]
  },
  {
   "cell_type": "code",
   "execution_count": 3,
   "metadata": {},
   "outputs": [],
   "source": [
    "def sentence_similarity(sent1, sent2, stopwords=None):\n",
    "    if stopwords is None:\n",
    "        stopwords = []\n",
    " \n",
    "    sent1 = [w.lower() for w in sent1]\n",
    "    sent2 = [w.lower() for w in sent2]\n",
    " \n",
    "    all_words = list(set(sent1 + sent2))\n",
    " \n",
    "    vector1 = [0] * len(all_words)\n",
    "    vector2 = [0] * len(all_words)\n",
    " \n",
    "    # build the vector for the first sentence\n",
    "    for w in sent1:\n",
    "        if w in stopwords:\n",
    "            continue\n",
    "        vector1[all_words.index(w)] += 1\n",
    " \n",
    "    # build the vector for the second sentence\n",
    "    for w in sent2:\n",
    "        if w in stopwords:\n",
    "            continue\n",
    "        vector2[all_words.index(w)] += 1\n",
    " \n",
    "    return 1 - cosine_distance(vector1, vector2)"
   ]
  },
  {
   "cell_type": "code",
   "execution_count": 4,
   "metadata": {},
   "outputs": [],
   "source": [
    "def build_similarity_matrix(sentences, stop_words):\n",
    "    # Create an empty similarity matrix\n",
    "    similarity_matrix = np.zeros((len(sentences), len(sentences)))\n",
    " \n",
    "    for idx1 in range(len(sentences)):\n",
    "        for idx2 in range(len(sentences)):\n",
    "            if idx1 == idx2: #ignore if both are same sentences\n",
    "                continue \n",
    "            similarity_matrix[idx1][idx2] = sentence_similarity(sentences[idx1], sentences[idx2], stop_words)\n",
    "\n",
    "    return similarity_matrix"
   ]
  },
  {
   "cell_type": "code",
   "execution_count": 14,
   "metadata": {},
   "outputs": [],
   "source": [
    "def generate_summary(file_name, top_n=2):\n",
    "    stop_words = stopwords.words('english')\n",
    "    summarize_text = []\n",
    "\n",
    "    # Step 1 - Read text anc split it\n",
    "    sentences =  read_article(file_name)\n",
    "\n",
    "    # Step 2 - Generate Similary Martix across sentences\n",
    "    sentence_similarity_martix = build_similarity_matrix(sentences, stop_words)\n",
    "\n",
    "    # Step 3 - Rank sentences in similarity martix\n",
    "    sentence_similarity_graph = nx.from_numpy_array(sentence_similarity_martix)\n",
    "    scores = nx.pagerank(sentence_similarity_graph)\n",
    "\n",
    "    # Step 4 - Sort the rank and pick top sentences\n",
    "    ranked_sentence = sorted(((scores[i],s) for i,s in enumerate(sentences)), reverse=True)    \n",
    "    print(\"Indexes of top ranked_sentence order are \", ranked_sentence)   \n",
    "    print(\" \")\n",
    "    print(\" \")\n",
    "    is_noun = lambda pos: pos[:2] == 'NN'\n",
    "    nouns = [word for (word, pos) in nltk.pos_tag(sentences[0]) if is_noun(pos)] \n",
    "    print(nouns)\n",
    "    #for i in range(top_n):\n",
    "        #summarize_text.append(\" \".join(ranked_sentence[i][1]))\n",
    "\n",
    "    # Step 5 - Offcourse, output the summarize texr\n",
    "    #print(\"Summarize Text: \\n\", \". \".join(summarize_text))"
   ]
  },
  {
   "cell_type": "code",
   "execution_count": 15,
   "metadata": {},
   "outputs": [
    {
     "name": "stdout",
     "output_type": "stream",
     "text": [
      "Indexes of top ranked_sentence order are  [(0.19251415795299892, ['Meanwhile,', 'the', 'Galaxy', 'S21', 'Ultra', 'is', 'what', 'the', 'original', 'Ultra', 'should', 'have', 'been', '-', 'jam-packed', 'with', 'high-end', 'features,', 'no', 'asterisks,', 'no', 'fine', 'print']), (0.15873015866938936, ['The', 'ultrawide', 'camera', 'had', 'a', 'great', 'sensor,', 'but', 'it', \"couldn't\", 'do', 'macro', 'shots', 'due', 'to', 'the', 'lack', 'of', 'autofocus']), (0.15873015866938936, ['The', 'telephoto', 'camera', 'was', 'advertised', 'as', '5x,', 'but', 'it', 'was,', 'in', 'fact,', '4x,', 'and', \"let's\", 'not', 'even', 'start', 'with', 'the', 'Space', 'Zoom']), (0.15154746149241677, ['Still', 'no', 'charger,', 'though.The', 'original', 'S20', 'Ultra', 'was', 'supposed', 'to', 'be', 'the', 'greatest', 'Galaxy', 'to', 'date,', 'but', 'it', 'fell', 'short', 'of', 'that']), (0.14542950761607093, ['This', 'year,', 'the', 'Galaxy', 'S21', 'series', 'came', 'earlier', 'than', 'expected,', 'and', 'it', 'brought', 'a', 'slew', 'of', 'changes']), (0.14542950761607093, ['The', 'Galaxy', 'S21', 'and', 'S21+', 'now', 'feature', 'lower-res', 'OLEDs,', 'no', 'microSD', 'expansion,', 'and', 'no', 'chargers', 'in', 'the', 'box']), (0.023809523991831838, ['You', 'could', 'enjoy', 'a', '120Hz', 'refresh', 'rate,', 'but', 'only', 'at', 'a', 'lower', '1080p', 'resolution']), (0.023809523991831838, ['The', 'battery', 'was', 'large,', 'but', 'battery', 'life', 'was', 'poor'])]\n",
      " \n",
      " \n",
      "['Galaxy', 'S21', 'series', 'expected,', 'slew', 'changes']\n"
     ]
    }
   ],
   "source": [
    "generate_summary( \"artificial_intelligence.txt\")"
   ]
  },
  {
   "cell_type": "code",
   "execution_count": null,
   "metadata": {},
   "outputs": [],
   "source": []
  }
 ],
 "metadata": {
  "kernelspec": {
   "display_name": "Python 3",
   "language": "python",
   "name": "python3"
  },
  "language_info": {
   "codemirror_mode": {
    "name": "ipython",
    "version": 3
   },
   "file_extension": ".py",
   "mimetype": "text/x-python",
   "name": "python",
   "nbconvert_exporter": "python",
   "pygments_lexer": "ipython3",
   "version": "3.8.5"
  }
 },
 "nbformat": 4,
 "nbformat_minor": 4
}
