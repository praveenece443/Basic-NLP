{
 "cells": [
  {
   "cell_type": "raw",
   "metadata": {},
   "source": [
    "# Porters Algorithm or snowball Algorithm"
   ]
  },
  {
   "cell_type": "code",
   "execution_count": 1,
   "metadata": {},
   "outputs": [],
   "source": [
    "Example_Sentence = '''Patients who in late middle age have smoked 20 cigarettes a day since their teens constitute \n",
    "an at-risk group. One thing they’re clearly at risk for is the acute sense of guilt that a clinician can incite, \n",
    "which immediately makes a consultation tense.'''"
   ]
  },
  {
   "cell_type": "code",
   "execution_count": 2,
   "metadata": {},
   "outputs": [],
   "source": [
    "import nltk\n",
    "from nltk.tokenize import word_tokenize  \n",
    "from nltk.corpus import stopwords\n",
    "from nltk.stem import WordNetLemmatizer\n",
    "from nltk.stem.snowball import SnowballStemmer\n",
    "from nltk.stem.porter import *"
   ]
  },
  {
   "cell_type": "code",
   "execution_count": 3,
   "metadata": {},
   "outputs": [],
   "source": [
    "nltk_tokenList = word_tokenize(Example_Sentence)"
   ]
  },
  {
   "cell_type": "code",
   "execution_count": 4,
   "metadata": {},
   "outputs": [],
   "source": [
    "p_stemmer = PorterStemmer()\n",
    "nltk_stemedList = []\n",
    "for word in nltk_tokenList:\n",
    "    nltk_stemedList.append(p_stemmer.stem(word))"
   ]
  },
  {
   "cell_type": "code",
   "execution_count": 5,
   "metadata": {},
   "outputs": [],
   "source": [
    "wordnet_lemmatizer = WordNetLemmatizer()\n",
    "nltk_lemmaList = []\n",
    "for word in nltk_stemedList:\n",
    "    nltk_lemmaList.append(wordnet_lemmatizer.lemmatize(word))"
   ]
  },
  {
   "cell_type": "code",
   "execution_count": 6,
   "metadata": {},
   "outputs": [
    {
     "name": "stdout",
     "output_type": "stream",
     "text": [
      "Stemming + Lemmatization\n",
      "['patient', 'who', 'in', 'late', 'middl', 'age', 'have', 'smoke', '20', 'cigarett', 'a', 'day', 'sinc', 'their', 'teen', 'constitut', 'an', 'at-risk', 'group', '.', 'one', 'thing', 'they', '’', 're', 'clearli', 'at', 'risk', 'for', 'is', 'the', 'acut', 'sen', 'of', 'guilt', 'that', 'a', 'clinician', 'can', 'incit', ',', 'which', 'immedi', 'make', 'a', 'consult', 'ten', '.']\n"
     ]
    }
   ],
   "source": [
    "print(\"Stemming + Lemmatization\")\n",
    "print(nltk_lemmaList)"
   ]
  },
  {
   "cell_type": "code",
   "execution_count": 7,
   "metadata": {},
   "outputs": [],
   "source": [
    "#Filter stopword\n",
    "filtered_sentence = []  \n",
    "nltk_stop_words = set(stopwords.words(\"english\"))\n",
    "for w in nltk_lemmaList:  \n",
    "    if w not in nltk_stop_words:  \n",
    "        filtered_sentence.append(w)"
   ]
  },
  {
   "cell_type": "code",
   "execution_count": 8,
   "metadata": {},
   "outputs": [
    {
     "name": "stdout",
     "output_type": "stream",
     "text": [
      "Remove stopword & Punctuation\n",
      " \n",
      "['patient', 'late', 'middl', 'age', 'smoke', '20', 'cigarett', 'day', 'sinc', 'teen', 'constitut', 'at-risk', 'group', 'one', 'thing', '’', 'clearli', 'risk', 'acut', 'sen', 'guilt', 'clinician', 'incit', 'immedi', 'make', 'consult', 'ten']\n"
     ]
    }
   ],
   "source": [
    "#Removing Punctuation\n",
    "punctuations=\"?:!.,;\"\n",
    "for word in filtered_sentence:\n",
    "    if word in punctuations:\n",
    "        filtered_sentence.remove(word)\n",
    "\n",
    "print(\"Remove stopword & Punctuation\")\n",
    "print(\" \")\n",
    "print(filtered_sentence)"
   ]
  },
  {
   "cell_type": "code",
   "execution_count": null,
   "metadata": {},
   "outputs": [],
   "source": []
  }
 ],
 "metadata": {
  "kernelspec": {
   "display_name": "Python 3",
   "language": "python",
   "name": "python3"
  },
  "language_info": {
   "codemirror_mode": {
    "name": "ipython",
    "version": 3
   },
   "file_extension": ".py",
   "mimetype": "text/x-python",
   "name": "python",
   "nbconvert_exporter": "python",
   "pygments_lexer": "ipython3",
   "version": "3.8.5"
  }
 },
 "nbformat": 4,
 "nbformat_minor": 4
}
