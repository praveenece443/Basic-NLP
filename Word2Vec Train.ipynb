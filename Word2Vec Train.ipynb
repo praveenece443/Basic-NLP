{
 "cells": [
  {
   "cell_type": "code",
   "execution_count": null,
   "metadata": {},
   "outputs": [],
   "source": [
    "import gzip\n",
    "import gensim \n",
    "import logging\n",
    "\n",
    "logging.basicConfig(format='%(asctime)s : %(levelname)s : %(message)s', level=logging.INFO)"
   ]
  },
  {
   "cell_type": "code",
   "execution_count": null,
   "metadata": {},
   "outputs": [],
   "source": [
    "data_file=\"reviews_data.txt.gz\"\n",
    "\n",
    "with gzip.open ('reviews_data.txt.gz', 'rb') as f:\n",
    "    for i,line in enumerate (f):\n",
    "        print(line)\n",
    "        break"
   ]
  },
  {
   "cell_type": "code",
   "execution_count": null,
   "metadata": {},
   "outputs": [],
   "source": [
    "def read_input(input_file):\n",
    "    \"\"\"This method reads the input file which is in gzip format\"\"\"\n",
    "    \n",
    "    logging.info(\"reading file {0}...this may take a while\".format(input_file))\n",
    "    \n",
    "    with gzip.open (input_file, 'rb') as f:\n",
    "        for i, line in enumerate (f): \n",
    "\n",
    "            if (i%10000==0):\n",
    "                logging.info (\"read {0} reviews\".format (i))\n",
    "            # do some pre-processing and return a list of words for each review text\n",
    "            yield gensim.utils.simple_preprocess (line)\n",
    "\n",
    "documents = list (read_input (data_file))\n",
    "logging.info (\"Done reading data file\")"
   ]
  },
  {
   "cell_type": "code",
   "execution_count": null,
   "metadata": {},
   "outputs": [],
   "source": [
    "model = gensim.models.Word2Vec (documents,  window=10, min_count=2, workers=10)\n",
    "model.train(documents,total_examples=len(documents),epochs=10)"
   ]
  },
  {
   "cell_type": "code",
   "execution_count": null,
   "metadata": {},
   "outputs": [],
   "source": [
    "w1 = \"dirty\"\n",
    "model.wv.most_similar (positive=w1)"
   ]
  },
  {
   "cell_type": "code",
   "execution_count": null,
   "metadata": {},
   "outputs": [],
   "source": [
    "# look up top 6 words similar to 'polite'\n",
    "w1 = [\"polite\"]\n",
    "model.wv.most_similar (positive=w1,topn=6)"
   ]
  },
  {
   "cell_type": "code",
   "execution_count": null,
   "metadata": {},
   "outputs": [],
   "source": [
    "# similarity between two different words\n",
    "model.wv.similarity(w1=\"dirty\",w2=\"smelly\")"
   ]
  },
  {
   "cell_type": "markdown",
   "metadata": {},
   "source": [
    "### Small Word Model"
   ]
  },
  {
   "cell_type": "code",
   "execution_count": 1,
   "metadata": {},
   "outputs": [
    {
     "data": {
      "text/plain": [
       "(4, 150)"
      ]
     },
     "execution_count": 1,
     "metadata": {},
     "output_type": "execute_result"
    }
   ],
   "source": [
    "from gensim.models import word2vec as w2v\n",
    "import multiprocessing\n",
    "\n",
    "sentences = [['car'], ['insurance'],['best'], ['car'], ['service']]\n",
    "cores = multiprocessing.cpu_count() # Count the number of cores in a computer\n",
    "model = w2v.Word2Vec(min_count=1,window=2,sample=6e-5,alpha=0.03,min_alpha=0.0007, negative=20, workers=cores-1)\n",
    "model.build_vocab(sentences)\n",
    "model.train(sentences, total_examples=model.corpus_count, epochs=30, report_delay=1)"
   ]
  },
  {
   "cell_type": "code",
   "execution_count": 2,
   "metadata": {},
   "outputs": [
    {
     "name": "stdout",
     "output_type": "stream",
     "text": [
      "[('service', 0.220316082239151), ('insurance', 0.04292996972799301), ('best', 0.03810085356235504)]\n"
     ]
    }
   ],
   "source": [
    "print(model.wv.most_similar(positive=[\"car\"]))"
   ]
  },
  {
   "cell_type": "markdown",
   "metadata": {},
   "source": [
    "### My Corpus Model"
   ]
  },
  {
   "cell_type": "code",
   "execution_count": 3,
   "metadata": {},
   "outputs": [],
   "source": [
    "import numpy as np\n",
    "import random\n",
    "import re\n",
    "from collections import defaultdict"
   ]
  },
  {
   "cell_type": "code",
   "execution_count": 4,
   "metadata": {},
   "outputs": [],
   "source": [
    "path = 'dataset/test1.txt'\n",
    "with open(path, encoding='utf8') as f:\n",
    "    text = f.read()"
   ]
  },
  {
   "cell_type": "code",
   "execution_count": 5,
   "metadata": {},
   "outputs": [
    {
     "name": "stdout",
     "output_type": "stream",
     "text": [
      "['the', 'winner', 'of', 'this', 'auction', 'will', 'receive', 'two', 'paikka', 'human', 'visibility', 'raincoat', 'camo', 'xs', 'the', 'paikka', 'human', 'visibility', 'raincoat', 'is', 'made', 'with', 'smart', 'reflective', 'surface', 'that', 'ensures', 'you', 'll', 'stay', 'safe', 'on', 'nighttime', 'walks', 'the', 'seams', 'are', 'all', 'taped', 'to', 'make', 'this', 'jacket', 'waterproof', 'with', 'adjustable', 'sleeves', 'and', 'hood', 'this', 'raincoat', 'makes', 'sure', 'you', 'll', 'be', 'safe', 'and', 'comfortable', 'in', 'all', 'conditions', 'there', 'are', 'too', 'many', 'poor', 'quality', 'dog', 'products', 'in', 'the', 'world', 'we', 'are', 'here', 'to', 'make', 'change', 'we', 'understand', 'the', 'common', 'pain', 'points', 'of', 'dogs', 'and', 'their', 'owners', 'we', 'create', 'uncompromised', 'human', 'grade', 'solutions', 'to', 'make', 'every', 'moment', 'better', 'you', 'will', 'find', 'our', 'answer', 'revealed', 'in', 'every', 'paikka', 'product', 'free', 'shipping', 'on', 'all', 'items']\n"
     ]
    }
   ],
   "source": [
    "import gensim\n",
    "tokenized_text = list(gensim.utils.simple_preprocess (text))\n",
    "print(tokenized_text)"
   ]
  },
  {
   "cell_type": "code",
   "execution_count": 6,
   "metadata": {},
   "outputs": [
    {
     "name": "stdout",
     "output_type": "stream",
     "text": [
      "[['the'], ['winner'], ['of'], ['this'], ['auction'], ['will'], ['receive'], ['two'], ['paikka'], ['human'], ['visibility'], ['raincoat'], ['camo'], ['xs'], ['the'], ['paikka'], ['human'], ['visibility'], ['raincoat'], ['is'], ['made'], ['with'], ['smart'], ['reflective'], ['surface'], ['that'], ['ensures'], ['you'], ['ll'], ['stay'], ['safe'], ['on'], ['nighttime'], ['walks'], ['the'], ['seams'], ['are'], ['all'], ['taped'], ['to'], ['make'], ['this'], ['jacket'], ['waterproof'], ['with'], ['adjustable'], ['sleeves'], ['and'], ['hood'], ['this'], ['raincoat'], ['makes'], ['sure'], ['you'], ['ll'], ['be'], ['safe'], ['and'], ['comfortable'], ['in'], ['all'], ['conditions'], ['there'], ['are'], ['too'], ['many'], ['poor'], ['quality'], ['dog'], ['products'], ['in'], ['the'], ['world'], ['we'], ['are'], ['here'], ['to'], ['make'], ['change'], ['we'], ['understand'], ['the'], ['common'], ['pain'], ['points'], ['of'], ['dogs'], ['and'], ['their'], ['owners'], ['we'], ['create'], ['uncompromised'], ['human'], ['grade'], ['solutions'], ['to'], ['make'], ['every'], ['moment'], ['better'], ['you'], ['will'], ['find'], ['our'], ['answer'], ['revealed'], ['in'], ['every'], ['paikka'], ['product'], ['free'], ['shipping'], ['on'], ['all'], ['items']]\n"
     ]
    }
   ],
   "source": [
    "docs = []\n",
    "for i in range(len(tokenized_text)):\n",
    "    docs.append([tokenized_text[i]])\n",
    "print(docs)"
   ]
  },
  {
   "cell_type": "code",
   "execution_count": 7,
   "metadata": {},
   "outputs": [],
   "source": [
    "from gensim.models import word2vec as w2v\n",
    "import multiprocessing"
   ]
  },
  {
   "cell_type": "code",
   "execution_count": 8,
   "metadata": {},
   "outputs": [
    {
     "data": {
      "text/plain": [
       "(265, 3480)"
      ]
     },
     "execution_count": 8,
     "metadata": {},
     "output_type": "execute_result"
    }
   ],
   "source": [
    "cores = multiprocessing.cpu_count() # Count the number of cores in a computer\n",
    "model = w2v.Word2Vec(min_count=1,window=10,sample=6e-5,alpha=0.03,min_alpha=0.0007, negative=20, workers=cores-1)\n",
    "model.build_vocab(docs)\n",
    "model.train(docs, total_examples=model.corpus_count, epochs=30, report_delay=1)"
   ]
  },
  {
   "cell_type": "code",
   "execution_count": 9,
   "metadata": {},
   "outputs": [
    {
     "name": "stdout",
     "output_type": "stream",
     "text": [
      "[('here', 0.2867913246154785), ('jacket', 0.20972684025764465), ('of', 0.1798821985721588), ('our', 0.1537526249885559), ('that', 0.13904783129692078), ('create', 0.126688614487648), ('product', 0.11935709416866302), ('dogs', 0.11709446460008621), ('too', 0.11341460794210434), ('made', 0.10040757805109024)]\n"
     ]
    }
   ],
   "source": [
    "print(model.wv.most_similar(positive=[\"reflective\"]))"
   ]
  },
  {
   "cell_type": "code",
   "execution_count": null,
   "metadata": {},
   "outputs": [],
   "source": []
  }
 ],
 "metadata": {
  "kernelspec": {
   "display_name": "Python 3",
   "language": "python",
   "name": "python3"
  },
  "language_info": {
   "codemirror_mode": {
    "name": "ipython",
    "version": 3
   },
   "file_extension": ".py",
   "mimetype": "text/x-python",
   "name": "python",
   "nbconvert_exporter": "python",
   "pygments_lexer": "ipython3",
   "version": "3.8.5"
  }
 },
 "nbformat": 4,
 "nbformat_minor": 4
}
