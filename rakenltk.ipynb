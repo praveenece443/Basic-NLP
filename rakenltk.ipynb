{
 "cells": [
  {
   "cell_type": "code",
   "execution_count": 1,
   "metadata": {},
   "outputs": [],
   "source": [
    "from gensim.summarization import keywords\n",
    "\n",
    "class TextRankImpl:\n",
    "\n",
    "    def __init__(self, text):\n",
    "        self.text = text\n",
    "\n",
    "    def getKeywords(self):\n",
    "        return (keywords(self.text).split('\\n'))"
   ]
  },
  {
   "cell_type": "code",
   "execution_count": 2,
   "metadata": {},
   "outputs": [],
   "source": [
    "from rake_nltk import Rake\n",
    "\n",
    "class RakeImpl:\n",
    "\n",
    "    def __init__(self, text):\n",
    "        self.text = text\n",
    "        self.rake = Rake()\n",
    "\n",
    "    def getKeywords(self):\n",
    "        self.rake.extract_keywords_from_text(self.text)\n",
    "        return self.rake.get_ranked_phrases()"
   ]
  },
  {
   "cell_type": "code",
   "execution_count": 3,
   "metadata": {},
   "outputs": [],
   "source": [
    "import wikipedia\n",
    "\n",
    "\n",
    "class TextFetcher:\n",
    "\n",
    "    def __init__(self, title):\n",
    "        self.title = title\n",
    "        page = wikipedia.page(title)\n",
    "        self.text = page.summary\n",
    "\n",
    "    def getText(self):\n",
    "        return self.text"
   ]
  },
  {
   "cell_type": "code",
   "execution_count": 4,
   "metadata": {},
   "outputs": [
    {
     "name": "stdout",
     "output_type": "stream",
     "text": [
      "['vehicle insurance', 'vehicles', 'financial', 'injury', 'offer', 'trucks']\n",
      "['vehicle insurance may additionally offer financial protection', 'provide financial protection', 'bodily injury resulting', 'vehicle insurance vary', 'could also arise', 'vehicle insurance', 'vehicle sustained', 'motor insurance', 'car insurance', 'auto insurance']\n"
     ]
    }
   ],
   "source": [
    "textFetcher = TextFetcher(\"car insurance\")\n",
    "\n",
    "textRankImpl = TextRankImpl(textFetcher.getText())\n",
    "print (textRankImpl.getKeywords()[:10])\n",
    "\n",
    "rakeImpl = RakeImpl(textFetcher.getText())\n",
    "print (rakeImpl.getKeywords()[:10])"
   ]
  },
  {
   "cell_type": "code",
   "execution_count": null,
   "metadata": {},
   "outputs": [],
   "source": []
  }
 ],
 "metadata": {
  "kernelspec": {
   "display_name": "Python 3",
   "language": "python",
   "name": "python3"
  },
  "language_info": {
   "codemirror_mode": {
    "name": "ipython",
    "version": 3
   },
   "file_extension": ".py",
   "mimetype": "text/x-python",
   "name": "python",
   "nbconvert_exporter": "python",
   "pygments_lexer": "ipython3",
   "version": "3.8.5"
  }
 },
 "nbformat": 4,
 "nbformat_minor": 4
}
